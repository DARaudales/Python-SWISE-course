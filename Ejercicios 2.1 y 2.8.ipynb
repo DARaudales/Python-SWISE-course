{
 "cells": [
  {
   "cell_type": "markdown",
   "metadata": {},
   "source": [
    "# Primer proyecto: Lanzamiento de proyectiles con cinemática"
   ]
  },
  {
   "cell_type": "markdown",
   "metadata": {},
   "source": [
    "## Inciso 1"
   ]
  },
  {
   "cell_type": "markdown",
   "metadata": {},
   "source": [
    "**Cree funciones para todos los objetos fundamentales: $x(t)$, $y(t)$, $\\vec{r}(t)$.**"
   ]
  },
  {
   "cell_type": "markdown",
   "metadata": {},
   "source": [
    "Función para encontrar la componente \"y\" de la trayectoria, en función del tiempo. "
   ]
  },
  {
   "cell_type": "code",
   "execution_count": null,
   "metadata": {},
   "outputs": [],
   "source": [
    "def y_t(y0, vy0, t, a):\n",
    "    y=y0+vy0*t+a*t**2/2\n",
    "    return(y)"
   ]
  },
  {
   "cell_type": "markdown",
   "metadata": {},
   "source": [
    "Función para encontrar la componente \"x\" de la trayectoria, en función del tiempo."
   ]
  },
  {
   "cell_type": "code",
   "execution_count": null,
   "metadata": {},
   "outputs": [],
   "source": [
    "def x_t(x0, vx, t):\n",
    "    x=x0+vx*t\n",
    "    return(x)"
   ]
  },
  {
   "cell_type": "markdown",
   "metadata": {},
   "source": [
    "Función de trayectoria, con sus componente \"x\" e \"y\" en función del tiempo."
   ]
  },
  {
   "cell_type": "code",
   "execution_count": null,
   "metadata": {},
   "outputs": [],
   "source": [
    "def r_t(y0, vy0, x0, vx, t, a):\n",
    "    return[x_t(x0, vx, t),y_t(y0, vy0, t, a)]"
   ]
  },
  {
   "cell_type": "markdown",
   "metadata": {},
   "source": [
    "## Inciso 2"
   ]
  },
  {
   "cell_type": "markdown",
   "metadata": {},
   "source": [
    "## Ejercicio 2.1"
   ]
  },
  {
   "cell_type": "markdown",
   "metadata": {},
   "source": [
    "**¿En qué tiempo $t$ una pelota (definida por su estado inicial $(r_0, v_0)$) cae al suelo? ¿Qué tal si lo que queremos es que caiga sobre una repisa de altura $h$?**"
   ]
  },
  {
   "cell_type": "markdown",
   "metadata": {},
   "source": [
    "Se imprime un menú de opciones con una breve explicación del programa al usuario. Donde se le permite ingresar una opción deseada. Mediante un ciclo *while* se valida su entrada. Luego, este valor se almacena en una nueva variable para reutilizar la variable original en otro menú de opciones. "
   ]
  },
  {
   "cell_type": "code",
   "execution_count": null,
   "metadata": {},
   "outputs": [],
   "source": [
    "print(\"Este programa encontrará el tiempo que tarda una pelota lanzada en caer al suelo o sobre una repisa a una altura determinada.\")\n",
    "print(\"Para esto, primero necesitamos que nos ayudes con un poco de información.\")\n",
    "print(\"¿Qué te gustaría hacer?\")\n",
    "print(\"1.Encontrar el tiempo que la pelota tarda en caer al suelo.\")\n",
    "print(\"2.Encontrar el tiempo que la pelota tarda en caer sobre una repisa a una altura determinada.\")\n",
    "print(\"Presiona 1 o 2\")\n",
    "while True:\n",
    "    try:\n",
    "        opción = int(input(\"Opción: \"))\n",
    "    except:\n",
    "        print(\"Se necesita ingresar un NÚMERO, intenta de nuevo.\")\n",
    "    else:\n",
    "        if opción==1 or opción==2:\n",
    "            break\n",
    "        else:\n",
    "            print(\"Esa opción no existe, intenta de nuevo.\")\n",
    "aux=opción"
   ]
  },
  {
   "cell_type": "markdown",
   "metadata": {},
   "source": [
    "Se brinda más información al usuario sobre el programa, y nuevamente se le presentan dos opciones, esta vez para definir el valor de la aceleración. Se valida la entrada de datos del usuario."
   ]
  },
  {
   "cell_type": "code",
   "execution_count": null,
   "metadata": {},
   "outputs": [],
   "source": [
    "print(\"Listo, ahora podemos comenzar :)\\nSólo para aclarar, el marco de referencia es positivo hacia arriba y hacia la derecha.\")\n",
    "print(\"La aceleración que se utilizará por defecto es 9.81 m/s^2 hacia abajo (el valor promedio para la Tierra).\")\n",
    "print(\"¿Te parece bien ese valor para la aceleración?\\n1.Sí\\n2.No\")\n",
    "print(\"Presiona 1 o 2\")\n",
    "\n",
    "while True:\n",
    "    try:\n",
    "        opción = int(input(\"Opción: \"))\n",
    "    except:\n",
    "        print(\"Se necesita ingresar un NÚMERO, intenta de nuevo.\")\n",
    "    else:\n",
    "        if opción==1 or opción==2:\n",
    "            break\n",
    "        else:\n",
    "            print(\"Esa opción no existe, intenta de nuevo.\")"
   ]
  },
  {
   "cell_type": "markdown",
   "metadata": {},
   "source": [
    "Según la elección del usuario, se asigna automáticamente un valor para la aceleración o se le permite ingresar uno propio. Nuevamente, se valida la entrada de datos. "
   ]
  },
  {
   "cell_type": "code",
   "execution_count": null,
   "metadata": {},
   "outputs": [],
   "source": [
    "if opción==1:\n",
    "    a=-9.81\n",
    "else:\n",
    "    print(\"Ingresa un valor para la aceleración, si te confunden los marcos de referencia, no hay problema.\")\n",
    "    print(\"Tanto los valores positivos como negativos se tomarán como aceleraciones hacia abajo.\")\n",
    "    print('Por ejemplo, al ingresar \"-4.0\" o \"4.0\", ambos serán tomados como 4.0 m/s^2 hacia abajo.')\n",
    "    while True:\n",
    "        try:\n",
    "            a=-abs(float(input(\"a=\")))\n",
    "        except:\n",
    "            print(\"Ese tipo de dato no es válido, intenta de nuevo.\")\n",
    "        else:\n",
    "            break"
   ]
  },
  {
   "cell_type": "markdown",
   "metadata": {},
   "source": [
    "Se piden los datos restantes al usuario, ya sea para resolver el problema en la opción 1 o en la opción 2, validando la entrada de cada uno de ellos. Nótese que para la opción 1, no se piden valores para las componentes \"x\", dado que son innecesarias para la resolución del problema."
   ]
  },
  {
   "cell_type": "code",
   "execution_count": null,
   "metadata": {},
   "outputs": [],
   "source": [
    "print(\"Ahora podemos ingresar las otras variables. Toma en cuenta el marco de referencia (positivo para la derecha y para arriba).\")\n",
    "print(\"Como altura de referencia tendremos al suelo y no estás dentro de un pozo donde la altura sería negativa, sólo valores no negativos.\")\n",
    "\n",
    "if aux==1:\n",
    "    y=0\n",
    "    while True:\n",
    "        try:\n",
    "            y0=float(input(\"Ingresa la altura inicial: \"))\n",
    "        except:\n",
    "            print(\"Ese tipo de dato no es válido, intenta de nuevo.\")\n",
    "        else:\n",
    "            if y0>=0:\n",
    "                break\n",
    "            else:\n",
    "                print(\"Sin pozos, nada de valores negativos.\")\n",
    "    while True:\n",
    "        try:\n",
    "            vy0=float(input('Ingresa la componente \"y\" de la velocidad inicial: '))\n",
    "        except:\n",
    "            print(\"Ese tipo de dato no es válido, intenta de nuevo.\")\n",
    "        else:\n",
    "            break"
   ]
  },
  {
   "cell_type": "markdown",
   "metadata": {},
   "source": [
    "Por medio de las ecuaciones de cinemática, podemos lograr dos cosas: \n",
    "1. Es posible determinar el cuadrado de la velocidad en un punto más adelante en el tiempo utilizando las variables que ya conocemos.\n",
    "<center><br>$v^2=v_0^2+2a(y-y_0)$ </center>\n",
    "<br>\n",
    "2. Se puede calcular el tiempo de vuelo al conocer las velocidades iniciales y finales al igual que la aceleración.\n",
    "<center><br>$t=\\frac{v-v_0}{a}$</center>"
   ]
  },
  {
   "cell_type": "markdown",
   "metadata": {},
   "source": [
    "Como sabemos que al caer, la pelota tendrá una velocidad $v_y(t)$ negativa, tomamos la raíz negativa de la primera ecuación, sustituyendo en la segunda y así encontrando el tiempo, para luego imprimir el resultado."
   ]
  },
  {
   "cell_type": "code",
   "execution_count": null,
   "metadata": {},
   "outputs": [],
   "source": [
    "vy=(vy0**2+2*a*(y-y0))**0.5\n",
    "vy=-vy\n",
    "t=(vy-vy0)/a\n",
    "\n",
    "if t<=1:\n",
    "    print(f\"El tiempo que tarda la pelota en caer sobre el suelo es de {t+0} segundo.\")\n",
    "else:\n",
    "    print(f\"El tiempo que tarda la pelota en caer sobre el suelo es de {t+0} segundos.\")"
   ]
  },
  {
   "cell_type": "markdown",
   "metadata": {},
   "source": [
    "En caso de haberse seleccionado la opción 2, además de las variables ya vistas, se necesitan los valores de los componentes horizontales, al igual que la ubicación de la plataforma. Esto sucede porque, para caer sobre la plataforma, siempre con una velocidad negativa, debe coincidir un punto de la trayectoria de la pelota con un punto incluido en el espacio que abarca la plataforma."
   ]
  },
  {
   "cell_type": "markdown",
   "metadata": {},
   "source": [
    "Luego se procede a tratar de resolver las ecuaciones. Por medio de ciclos utilizando *try, except, if* y *else*, se consideran los diferentes resultados según el comportamiento del movimiento de la pelota. "
   ]
  },
  {
   "cell_type": "code",
   "execution_count": null,
   "metadata": {},
   "outputs": [],
   "source": [
    "if aux==2:\n",
    "    x0=0\n",
    "    print(\"Para la distancia horizontal hasta la plataforma se tomará como referencia la posición de la que se lanza la pelota.\")\n",
    "    print(\"La plataforma abarcará una región en el espacio, por ejemplo: desde una distancia de 5 a 10 metros a la derecha.\")\n",
    "    while True:\n",
    "        try:\n",
    "            y=float(input(\"Ingresa la altura de la plataforma: \"))\n",
    "        except:\n",
    "            print(\"Ese tipo de dato no es válido, intenta de nuevo.\")\n",
    "        else:\n",
    "            if y>=0:\n",
    "                break\n",
    "            else:\n",
    "                print(\"La plataforma estaría debajo del suelo, y no, la pelota no va a atravesarlo, intenta de nuevo\")      \n",
    "    plataforma=[]\n",
    "    print(\"Ingresa las coordenadas en X entre las cuales estará la plataforma.\")\n",
    "    while True:\n",
    "        try:\n",
    "            x1=float(input(\"Coordenada 1: \"))\n",
    "            x2=float(input(\"Coordenada 2: \"))\n",
    "        except:\n",
    "            print(\"Ese tipo de dato no es válido\")\n",
    "        else:\n",
    "            plataforma.extend([x1,x2])\n",
    "            plataforma.sort()\n",
    "            break\n",
    "    while True:\n",
    "        try:\n",
    "            y0=float(input(\"Ingresa la altura inicial, desde la cual se lanzará la pelota: \"))\n",
    "        except:\n",
    "            print(\"Ese tipo de dato no es válido, intenta de nuevo.\")\n",
    "        else:\n",
    "            if y0>=0:\n",
    "                break\n",
    "            else:\n",
    "                print(\"Sin pozos, nada de valores negativos.\")\n",
    "    while True:\n",
    "        try:\n",
    "            vy0=float(input('Ingresa la componente \"y\" de la velocidad inicial de la pelota: '))\n",
    "        except:\n",
    "            print(\"Ese tipo de dato no es válido, intenta de nuevo.\")\n",
    "        else:\n",
    "            break\n",
    "    while True:\n",
    "        try:\n",
    "            vx=float(input('Ingresa la componente \"x\" de la velocidad inicial de la pelota: '))\n",
    "        except:\n",
    "            print(\"Ese tipo de dato no es válido, intenta de nuevo.\")\n",
    "        else:\n",
    "            break\n",
    "    try:\n",
    "        vy=(vy0**2+2*a*(y-y0))**0.5\n",
    "        t = (vy - vy0) / a\n",
    "        plataforma.append(x_t(x0, vx, t))\n",
    "        plataforma.sort()\n",
    "    except:\n",
    "        print(\"La pelota nunca alcanzará la plataforma.\")\n",
    "    else:\n",
    "        if plataforma.index(x_t(x0, vx, t))==1:\n",
    "            print(\"La pelota se estrellará en la plataforma por bajo, pero no aterrizará sobre ella.\")\n",
    "        else:\n",
    "            plataforma.remove(x_t(x0, vx, t))\n",
    "            vy=-vy\n",
    "            t=(vy-vy0)/a\n",
    "            plataforma.append(x_t(x0, vx, t))\n",
    "            plataforma.sort()\n",
    "            if plataforma.index(x_t(x0, vx, t))==1:\n",
    "                print(f\"La pelota tardará {t} segundos en caer sobre la plataforma.\")\n",
    "            else:\n",
    "                print(\"La pelota no caerá sobre la plataforma.\")\n"
   ]
  },
  {
   "cell_type": "markdown",
   "metadata": {},
   "source": [
    "# Ejercicio 2.8"
   ]
  },
  {
   "cell_type": "markdown",
   "metadata": {},
   "source": [
    "**Si la gravedad no estuviese alineada con el eje $y$, si no que en cualquier otra dirección, calcule la trayectoria.**"
   ]
  },
  {
   "cell_type": "markdown",
   "metadata": {},
   "source": [
    "Se importan los paquetes necesarios y se definen las funciones que se utilizaran para el problema. Luego, se muestra un mensaje introductorio. "
   ]
  },
  {
   "cell_type": "code",
   "execution_count": null,
   "metadata": {},
   "outputs": [],
   "source": [
    "import numpy as np\n",
    "import matplotlib.pyplot as plt\n",
    "\n",
    "#Función para encontrar la componente vertical:\n",
    "def ry(y0, vy0, t, ay):\n",
    "    y=y0+vy0*t+ay*t**2/2\n",
    "    if y>=100:\n",
    "        return 100\n",
    "    elif y<=-100:\n",
    "        return -100\n",
    "    else:\n",
    "        return(y)\n",
    "\n",
    "#Función para encontrar la componente horizontal:\n",
    "def rx(x0, vx0, t, ax):\n",
    "    x=x0+vx0*t+ax*t**2/2\n",
    "    if x>=100:\n",
    "        return 100\n",
    "    elif x<=-100:\n",
    "        return -100\n",
    "    return(x)\n",
    "\n",
    "#Función para encontrar la trayectoria:\n",
    "def trayectoria(y0,vy0,x0,vx0,t,ax,ay):\n",
    "    x=rx(x0,vx0,t,ax)\n",
    "    y=ry(y0,vy0,t,ay)\n",
    "    return (x,y)\n",
    "\n",
    "print(\"Este programa calcula y muestra la trayectoria de un proyectil en una región observable durante 10 segundos.\")"
   ]
  },
  {
   "cell_type": "markdown",
   "metadata": {},
   "source": [
    "Se piden los datos al usuario y se validan. Luego, se desompone el vector de aceleración según su desfase por medio del uso de ángulos correspondientes y funciones trigonométricas, pertenecientes al paquete *numpy*."
   ]
  },
  {
   "cell_type": "code",
   "execution_count": null,
   "metadata": {},
   "outputs": [],
   "source": [
    "while True:\n",
    "    try:\n",
    "        y0=float(input(\"Ingresa la altura inicial, desde la cual se lanzará el proyectil: \"))\n",
    "    except:\n",
    "        print(\"Ese tipo de dato no es válido, intenta de nuevo.\")\n",
    "    else:\n",
    "        if y0<-100 or y0>100:\n",
    "            print(\"Ese valor está fuera de la región observada.\")\n",
    "        else:\n",
    "            break\n",
    "while True:\n",
    "    try:\n",
    "        x0=float(input(\"Ingresa la coordenada en X desde la cual se lanzará el proyectil: \"))\n",
    "    except:\n",
    "        print(\"Ese tipo de dato no es válido, intenta de nuevo.\")\n",
    "    else:\n",
    "        if x0<-100 or x0>100:\n",
    "            print(\"Ese valor está fuera de la región observada.\")\n",
    "        else:\n",
    "            break\n",
    "while True:\n",
    "    try:\n",
    "        vy0=float(input('Ingresa la componente \"y\" de la velocidad inicial del proyectil: '))\n",
    "    except:\n",
    "        print(\"Ese tipo de dato no es válido, intenta de nuevo.\")\n",
    "    else:\n",
    "        break\n",
    "while True:\n",
    "    try:\n",
    "        vx0=float(input('Ingresa la componente \"x\" de la velocidad inicial del proyectil: '))\n",
    "    except:\n",
    "        print(\"Ese tipo de dato no es válido, intenta de nuevo.\")\n",
    "    else:\n",
    "        break\n",
    "while True:\n",
    "    try:\n",
    "        a=float(input('Ingresa el valor de la gravedad (ejemplo: 9.81 para la Tierra): '))\n",
    "    except:\n",
    "        print(\"Ese tipo de dato no es válido, intenta de nuevo.\")\n",
    "    else:\n",
    "        a=-a\n",
    "        break\n",
    "while True:\n",
    "    try:\n",
    "        ang=float(input('Ingresa el ángulo de desfase a la izquierda del eje Y en radianes: '))\n",
    "    except:\n",
    "        print(\"Ese tipo de dato no es válido, intenta de nuevo.\")\n",
    "\n",
    "#Descomposición del vector de aceleración según su desfase del eje \"Y\".\n",
    "\n",
    "    else:\n",
    "        if ang < 0:\n",
    "            while ang < 0:\n",
    "                ang = ang + 2 * np.pi\n",
    "        elif ang > 2 * np.pi:\n",
    "            while ang > 2 * np.pi:\n",
    "                ang = ang - 2 * np.pi\n",
    "        if 0<=ang<=np.pi/2:\n",
    "            ax=-a*np.cos(np.pi/2-ang)\n",
    "            ay=a*np.sin(np.pi/2-ang)\n",
    "        elif np.pi/2<ang<=np.pi:\n",
    "            ax=-a*np.cos(ang-np.pi/2)\n",
    "            ay=-a*np.sin(ang-np.pi/2)\n",
    "        elif np.pi<ang<=3*np.pi/2:\n",
    "            ax=a*np.cos(3*np.pi/2-ang)\n",
    "            ay=-a*np.sin(3*np.pi/2-ang)\n",
    "        elif 3*np.pi/2<ang<=2*np.pi:\n",
    "            ax=a*np.cos(ang-3*np.pi/2)\n",
    "            ay=a*np.sin(ang-3*np.pi/2)\n",
    "        break"
   ]
  },
  {
   "cell_type": "markdown",
   "metadata": {},
   "source": [
    "Se generan coordenadas para representar la trayectoria del proyectil en el intérvalo de tiempo por medio de la funcón *map* utilizando una ista de valores para el tiempo."
   ]
  },
  {
   "cell_type": "code",
   "execution_count": null,
   "metadata": {},
   "outputs": [],
   "source": [
    "t=np.arange(0,10,0.1)\n",
    "r=lambda t:trayectoria(y0,vy0,x0,vx0,t,ax,ay)\n",
    "r=list(map(r,t))\n",
    "rx=[x for x,y in r]\n",
    "ry=[y for x,y in r]"
   ]
  },
  {
   "cell_type": "markdown",
   "metadata": {},
   "source": [
    "Se grafican la trayectoria, la posición inicial y la región observable utilizando el paquete *matplotlib.pyplot*."
   ]
  },
  {
   "cell_type": "code",
   "execution_count": null,
   "metadata": {},
   "outputs": [],
   "source": [
    "plt.plot(rx, ry)\n",
    "plt.title(\"Trayectoria del Proyectil\")\n",
    "plt.xlabel(\"Recorrido horizontal (m)\")\n",
    "plt.ylabel(\"Altura (m)\")\n",
    "rectangle=plt.Rectangle((-100,-100),200,200,0.0,fill=False)\n",
    "plt.gca().add_patch(rectangle)\n",
    "plt.plot(x0,y0,'r',marker='.',markersize=5)\n",
    "plt.show()"
   ]
  }
 ],
 "metadata": {
  "kernelspec": {
   "display_name": "Python 3",
   "language": "python",
   "name": "python3"
  },
  "language_info": {
   "codemirror_mode": {
    "name": "ipython",
    "version": 3
   },
   "file_extension": ".py",
   "mimetype": "text/x-python",
   "name": "python",
   "nbconvert_exporter": "python",
   "pygments_lexer": "ipython3",
   "version": "3.8.3"
  }
 },
 "nbformat": 4,
 "nbformat_minor": 4
}
