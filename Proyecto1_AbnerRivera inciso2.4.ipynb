{
 "cells": [
  {
   "cell_type": "markdown",
   "metadata": {},
   "source": [
    "Código creado por Abner Sebastián Rivera\n",
    "# Proyecto 1\n",
    "## inciso 1: crear funciones para x(t), y(t), r(t)\n"
   ]
  },
  {
   "cell_type": "markdown",
   "metadata": {},
   "source": [
    "primero importamos las librerías necesarias para poder ejecutar nuestro programa\n"
   ]
  },
  {
   "cell_type": "code",
   "execution_count": 2,
   "metadata": {},
   "outputs": [],
   "source": [
    "import math \n",
    "import matplotlib.pyplot as plt\n",
    "import numpy as np "
   ]
  },
  {
   "cell_type": "markdown",
   "metadata": {},
   "source": [
    "luego se define la función para la posición y(t)"
   ]
  },
  {
   "cell_type": "code",
   "execution_count": 20,
   "metadata": {},
   "outputs": [],
   "source": [
    "def comp_y(y0, vy0, t, a = -9.8):\n",
    "    result = y0 + vy0*t + a*t**2/2\n",
    "    return(result)"
   ]
  },
  {
   "cell_type": "markdown",
   "metadata": {},
   "source": [
    "luego se define la función para la posición x(t)"
   ]
  },
  {
   "cell_type": "code",
   "execution_count": 22,
   "metadata": {},
   "outputs": [],
   "source": [
    "def comp_x(x0, vx0, t):\n",
    "    result = x0 + vx0*t\n",
    "    return(result)"
   ]
  },
  {
   "cell_type": "markdown",
   "metadata": {},
   "source": [
    "luego se unen ambas componenentes en una sola función \n",
    "Como se verá mas adelante utilizaremos la ecuación de la trayectoria que se deriva de las ecuaciones anteriormente anunciadas"
   ]
  },
  {
   "cell_type": "code",
   "execution_count": 31,
   "metadata": {},
   "outputs": [],
   "source": [
    "def trayectoria(x0, y0, vx0, vy0, t, a = -9.8):\n",
    "    y = comp_y(y0, vy0, t, a)\n",
    "    x = comp_x(x0, vx0, t)\n",
    "    return(x,y)"
   ]
  },
  {
   "cell_type": "markdown",
   "metadata": {},
   "source": [
    "# inciso 2\n",
    "# 4)¿A qué ángulo $\\theta$ debemos colocar el cañón (situado en el origen (0,0)) para que la bala destruya el castillo enemigo en un punto $(p_x,p_y)$ y dimensiones h X w?"
   ]
  },
  {
   "cell_type": "markdown",
   "metadata": {},
   "source": [
    "Ya sabemos que las ecuaciones necesarias para este problema están listadas arriba\n",
    "$$y=y_o+v_{y_o}t+\\frac{a}{2}t^2$$\n",
    "$$x=x_o+v_{x_o}t$$\n",
    "\n",
    "de estas se deduce la ecuacion de la trayectoria que es\n",
    "$$y=\\frac{a}{2v_{x_o}^2}x^2+x\\tan\\theta+y_o$$\n",
    "\n",
    "donde se despeja para $\\theta$ inicial\n",
    "$$\\theta=\\arctan(\\frac{y-y_o}{x}+\\frac{ax}{2v_{x_o}^2})$$"
   ]
  },
  {
   "cell_type": "code",
   "execution_count": 7,
   "metadata": {},
   "outputs": [],
   "source": [
    "def anguloinicial(px,py,vox,yo=0,a=9.8): #sabiendo cual es la función para el ángulo inicicañ, definimos una función en python de esta misma\n",
    "    angulo= math.atan((py-yo)/px + (a*px)/(2*vox**2))\n",
    "    return angulo"
   ]
  },
  {
   "cell_type": "code",
   "execution_count": null,
   "metadata": {},
   "outputs": [
    {
     "name": "stdin",
     "output_type": "stream",
     "text": [
      "Grosor del castillo enemigo en metros 10\n",
      "Altura del castillo enemigo en metros 10\n",
      "Distancia positiva del cañon al castillo enemigo en metros 0\n",
      "Componente en x positiva del castillo enemigo que se desea destruir 0\n",
      "Componente en y positiva del castillo enemigo que se desea destruir 5\n",
      "Componente en x positiva de la velocidad inicial 0.5\n"
     ]
    },
    {
     "name": "stdout",
     "output_type": "stream",
     "text": [
      "\n",
      "\n",
      " El cañón se autodestruira si hace esto\n",
      "\n"
     ]
    }
   ],
   "source": [
    "condicion=True #Ya que se pueden tomar condiciones incorrectas para el programa, se decidió que si esto ocurría se podrían pedir una nuevas condiciones cada vez que el usuario usara condiciones inválidas\n",
    "\n",
    "\n",
    "while(condicion):\n",
    "    w= float(input(\"Grosor del castillo enemigo en metros\"))\n",
    "    h= float(input(\"Altura del castillo enemigo en metros\"))\n",
    "    x= float(input(\"Distancia positiva del cañon al castillo enemigo en metros\"))\n",
    "    Px= float(input(\"Componente en x positiva del castillo enemigo que se desea destruir\"))\n",
    "    Py= float(input(\"Componente en y positiva del castillo enemigo que se desea destruir\"))\n",
    "    Vox= float(input(\"Componente en x positiva de la velocidad inicial\"))\n",
    "    print(\"\") #se pide la información al usuario. Dimensiones del castillo, distancia del cañón al castillo (positva), puntos dentro del castillo y velocidad.inicial\n",
    "    \n",
    "    while(w<0 or h<0):\n",
    "        if(w<0):\n",
    "            w=-1*w\n",
    "        elif(h<0):\n",
    "            h=-1*h\n",
    "        elif(Vox<0):\n",
    "            print(\"La velocidad es negativa,se pasará a positiva\")\n",
    "            Vox=-1*Vox\n",
    "        else:\n",
    "            pass\n",
    "#esta sección es por si el usuario ingresa dimensio del castillo negativas o velocidad negativa, en tal caso se tranformara esos valores a positivos suponiendo que el usuaio se haya equivocado.\n",
    "\n",
    "    if(Px==0.0 or x==0):\n",
    "        print(\"\\n Está eligiendo coordenadas para la autodestrucción\\n\")\n",
    "    elif(Px<0 or x<0):\n",
    "        print(\"\\n Coordenada no válida \\n\")\n",
    "    elif(Px<x or Py>h or Py<=0 or Px>w+x):\n",
    "        print(\"\\n La coordenada escogida no está dentro del castillo \\n\")\n",
    "    elif(Vox==0):\n",
    "        print(\"\\n La velocidad inicial en la dirección de x no puede ser 0 \\n\")\n",
    "    else:\n",
    "        print(f\"El cañón debe colocarse a un ángulo de {anguloinicial(Px,Py,Vox)} radianes\")\n",
    "        condicion=False\n",
    "#esta sección considera las condiciones que el usuario introdujo al programa. Revisará si el punto escogido a destruir está dentro del castillo,si la velocidad inicial en x es cero o si la distancia del cañón al castillo es cero(en tales casos no se podrá calcular el ángulo inicial ya que el cañoón no destruiría nada en esas condiciones y la ecuación no lo permitiría ya que abría una indeterminación).\n",
    "        "
   ]
  },
  {
   "cell_type": "code",
   "execution_count": null,
   "metadata": {},
   "outputs": [],
   "source": []
  }
 ],
 "metadata": {
  "kernelspec": {
   "display_name": "Python 3",
   "language": "python",
   "name": "python3"
  },
  "language_info": {
   "codemirror_mode": {
    "name": "ipython",
    "version": 3
   },
   "file_extension": ".py",
   "mimetype": "text/x-python",
   "name": "python",
   "nbconvert_exporter": "python",
   "pygments_lexer": "ipython3",
   "version": "3.7.6"
  }
 },
 "nbformat": 4,
 "nbformat_minor": 4
}
