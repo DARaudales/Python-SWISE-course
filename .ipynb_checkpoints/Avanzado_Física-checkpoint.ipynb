{
 "cells": [
  {
   "cell_type": "markdown",
   "metadata": {},
   "source": [
    "# Challenge Problem Física\n",
    "\n",
    "> Programe su tarea selecta del inciso 2 utilizando arrástre lineal y cuadrático y en n dimensiones, con n ingresado por el usuario.\n",
    "\n",
    "Decidimos resolver el inciso 2.2, este es\n",
    "\n",
    ">Escriba una función que calcule la velocidad del proyectil en todo tiempo y devuelva el porcentaje que esa velocidad representa respecto a la velocidad inicial $v_0$.\n",
    "\n",
    "Sabemos que las ecuaciones del movimiento considerando arrastre lineal y cuadratico en dos dimensiones son \n",
    "$$ m \\dot{v_x}=-b v_x - c \\sqrt{v_x^2+v_y^2}v_x $$ $$ m \\dot{v_y}=ma-b v_y - c \\sqrt{v_x^2+v_y^2}v_x $$ \n",
    "podemos extender estos resultados para n dimensiones considerando que tenemos n vectores base ortonormales ($e_1,e_2,e_3,...,e_n$), nuestras ecuaciones escalares serían \n",
    "$$ \\dot{v_1}=-\\frac{b}{m} v_1 - \\frac{c}{m} \\sqrt{v_1^2+v_2^2+v_3^2+...+v_n^2}v_1 $$\n",
    "$$ \\dot{v_2}=-\\frac{b}{m} v_2 - \\frac{c}{m} \\sqrt{v_1^2+v_2^2+v_3^2+...+v_n^2}v_2 $$\n",
    "$$ : $$\n",
    "$$ \\dot{v_i}=a-\\frac{b}{m} v_i - \\frac{c}{m} \\sqrt{v_1^2+v_2^2+v_3^2+...+v_n^2}v_i $$\n",
    "$$ : $$\n",
    "$$ \\dot{v_n}=-\\frac{b}{m} v_n - \\frac{c}{m} \\sqrt{v_1^2+v_2^2+v_3^2+...+v_n^2}v_n $$\n",
    "donde la ecuación en la que actua la gravedad es elegida por el usuario.\n",
    "\n",
    "Primero importaremos el modulo necesario para resolver las ecuaciones diferenciales"
   ]
  },
  {
   "cell_type": "code",
   "execution_count": null,
   "metadata": {},
   "outputs": [],
   "source": [
    "from scipy.integrate import solve_ivp"
   ]
  },
  {
   "cell_type": "markdown",
   "metadata": {},
   "source": [
    "Ahora definiremos una la función que devuelva el sistema de ecuaciones"
   ]
  },
  {
   "cell_type": "code",
   "execution_count": null,
   "metadata": {},
   "outputs": [],
   "source": [
    "def rhs(s,v):\n",
    "    \"\"\"\n",
    "    Función que nos devuelve el sistema de ecuaciones diferenciales que queremos resolver\n",
    "    \"\"\"\n",
    "    c1=float(b)/float(m)\n",
    "    c2=float(c)/float(m)\n",
    "    sistema=[] #este será el sistema que devolveremos, en forma de lista\n",
    "    elementos=[] #lista que nos ayudará para incluir el argumento que va dentro de la raiz en las ecuaciones\n",
    "    for j in range(int(n)):\n",
    "        elementos.append(v[j]**2)\n",
    "    \n",
    "    raiz=sum(elementos) #El argumento de la raíz será la suma de los elementos de la lista\n",
    "    \n",
    "    for i in range(int(n)):\n",
    "        if i==int(dimension_a):\n",
    "            sistema.append(float(a)-c1*v[i]-c2*(raiz**0.5)*v[i]) #Caso especial en la dirección que tenemos la aceleración\n",
    "        else:\n",
    "            sistema.append(-c1*v[i]-c2*(raiz**0.5)*v[i])\n",
    "    return sistema"
   ]
  },
  {
   "cell_type": "code",
   "execution_count": null,
   "metadata": {},
   "outputs": [],
   "source": [
    "def velocidad_y_porcentaje(v_0,tiempo):\n",
    "    #usamos la función que importamos de la librería para resolver sistemas de ecuaciones diferenciales acopladas\n",
    "    #esta función dividirá el intervalo en distintos instantes de tiempo dentro del interbalo y devolverá un arreglo\n",
    "    #nuestro valor para la velocidad será el último de estos arreglos\n",
    "    velocidad=solve_ivp(rhs,[0,tiempo],v_0)\n",
    "    return velocidad.y #usamos el punto y para que solo nos devuelva la varible dependiente que es la que buscamos"
   ]
  },
  {
   "cell_type": "code",
   "execution_count": null,
   "metadata": {},
   "outputs": [],
   "source": [
    "global a,b,c,m,dimension_a,n\n",
    "n=input(\"Ingrese el numero de dimensiones:\")\n",
    "print(\"Ingrese las condiciones iniciales:\")\n",
    "v_0=[]\n",
    "for i in range(int(n)):\n",
    "    r=str(i+1)\n",
    "    t=input(f\"Ingrese v_0[{r}]:\")\n",
    "    v_0.append(t)\n",
    "                 \n",
    "tiempo=input(\"Ingrese el tiempo:\")\n",
    "dimension_a=input(\"¿En cual de los vectores base está la aceleración \\n Ingrese el numero de la dimension (1,2,3,4,5...):\")\n",
    "a=input(\"Ingrese la aceleración del planeta:\")\n",
    "b=input(\"Ingrese el coeficiente de arrastre lineal:\")\n",
    "c=input(\"Ingrese el coeficiente de arrastre cuadrático:\")\n",
    "m=input(\"Ingrese la masa del objeto:\")\n",
    "velocidad_y_porcentaje(v_0,tiempo)"
   ]
  }
 ],
 "metadata": {
  "kernelspec": {
   "display_name": "Python 3",
   "language": "python",
   "name": "python3"
  },
  "language_info": {
   "codemirror_mode": {
    "name": "ipython",
    "version": 3
   },
   "file_extension": ".py",
   "mimetype": "text/x-python",
   "name": "python",
   "nbconvert_exporter": "python",
   "pygments_lexer": "ipython3",
   "version": "3.7.6"
  }
 },
 "nbformat": 4,
 "nbformat_minor": 4
}
