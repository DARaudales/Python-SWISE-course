{
 "cells": [
  {
   "cell_type": "markdown",
   "metadata": {},
   "source": [
    "# Inciso1\n",
    "> Cree funciones para todos los objetos fundamentales: $x(t)$, $y(t)$, $\\vec{r}(t)$.\n",
    "\n",
    "Nos interesa definir las funciones que describen la posición del objeto, comenzaremos por definir $y(t)$\n"
   ]
  },
  {
   "cell_type": "code",
   "execution_count": 1,
   "metadata": {},
   "outputs": [],
   "source": [
    "def comp_y(y0, vy0, t, a = -9.8):\n",
    "    return(y0 + vy0*t + a*t**2/2)"
   ]
  },
  {
   "cell_type": "markdown",
   "metadata": {},
   "source": [
    "seguido de $x(t)$"
   ]
  },
  {
   "cell_type": "code",
   "execution_count": 3,
   "metadata": {},
   "outputs": [],
   "source": [
    "def comp_x(x0, vx0, t):\n",
    "    return(x0 + vx0*t)"
   ]
  },
  {
   "cell_type": "markdown",
   "metadata": {},
   "source": [
    "ahora podemos usar una lista para definir $\\vec{r}(t)$"
   ]
  },
  {
   "cell_type": "code",
   "execution_count": 5,
   "metadata": {},
   "outputs": [],
   "source": [
    "def vec_r(comp_x,comp_y):\n",
    "    return [comp_x,comp_y]"
   ]
  },
  {
   "cell_type": "markdown",
   "metadata": {},
   "source": [
    "# Inciso 2.1\n",
    "\n",
    ">¿En qué tiempo $t$ una pelota (definida por su estado inicial $(r_0, v_0)$) cae al suelo? ¿Qué tal si lo que queremos es que caiga sobre una repisa de altura $h$?\n",
    "\n",
    "Tendremos en cuenta que el estado inicial sería $r_0=(x_0,y_0)$ y $v_0=(v_{x_0},v_{y_0})$. Definiremos una función que resuelve ecuaciones cuadráticas ya que será útil más adelante, esta funciona utilizando la formula cuadrática"
   ]
  },
  {
   "cell_type": "code",
   "execution_count": 5,
   "metadata": {},
   "outputs": [],
   "source": [
    "def solve_quadratic_equation(a,b,c):\n",
    "    \"\"\"\n",
    "    Devuelve las dos raíces de una ecuación cuadrática en forma de lista\n",
    "    \"\"\"\n",
    "    discriminante=b**2-4*a*c\n",
    "    if discriminante>=0:\n",
    "        x=[(-b+discriminante**0.5)/(2*a),(-b-discriminante**0.5)/(2*a)]\n",
    "        return x\n",
    "    else:\n",
    "        print(\"La ecuación cuadrática no tiene solución en el conjunto de los números reales\")"
   ]
  },
  {
   "cell_type": "markdown",
   "metadata": {},
   "source": [
    "Ahora necesitamos encontrar el tiempo en que la pelota cae al suelo. Sabemos el suelo se encuentra en $y(t)=0$, lo que significa que nuestro trabajo es resolver la ecuación $y_0 + v_{y_0} t + \\frac{a}{2}t^2=0$, la cual puede ser resuelta con la función que obtuvimos anteriormente"
   ]
  },
  {
   "cell_type": "code",
   "execution_count": 9,
   "metadata": {},
   "outputs": [],
   "source": [
    "def tiempo_caida_pelota(r_0,v_0,a=-9.8):\n",
    "    \"\"\"\n",
    "    Nos ayuda a saber el tiempo que tarda la pelota en tocar el suelo dependiendo de su posición y velocidad iniciales\n",
    "    \"\"\"\n",
    "    #necesitamos solo los datos de el eje \"y\" así que definimos estas variables\n",
    "    y0=float(r_0[1])\n",
    "    v_y0=float(v_0[1])\n",
    "    #utilizamos la función anterior para hacer los calculos\n",
    "    tiempo=solve_quadratic_equation(a/2,v_y0,y0)\n",
    "    #Regresamos el valor más alto, nos quedamos con el error de la función anterior si no hay solución en los reales\n",
    "    try:\n",
    "        return (float(tiempo[0]) if float(tiempo[0])>float(tiempo[1]) else float(tiempo[1]))\n",
    "    except:\n",
    "        pass"
   ]
  },
  {
   "cell_type": "markdown",
   "metadata": {},
   "source": [
    "Pedimos al usuario que ingrese los datos necesarios y damos el resultado"
   ]
  },
  {
   "cell_type": "code",
   "execution_count": 11,
   "metadata": {},
   "outputs": [
    {
     "name": "stdout",
     "output_type": "stream",
     "text": [
      "Ingrese las condiciones iniciales\n"
     ]
    },
    {
     "name": "stdin",
     "output_type": "stream",
     "text": [
      "x0: 0\n",
      "y0: 0\n",
      "vx0: 10\n",
      "vy0: 10\n"
     ]
    },
    {
     "name": "stdout",
     "output_type": "stream",
     "text": [
      "Ingrese la aceleración del planeta\n"
     ]
    },
    {
     "name": "stdin",
     "output_type": "stream",
     "text": [
      "aceleración del planeta: -9.8\n"
     ]
    },
    {
     "name": "stdout",
     "output_type": "stream",
     "text": [
      "La pelota tarda 2.0408163265306123 en caer\n"
     ]
    }
   ],
   "source": [
    "print(\"Ingrese las condiciones iniciales\")\n",
    "r_0=[input(\"x0:\"),input(\"y0:\")]\n",
    "v_0=[input(\"vx0:\"),input(\"vy0:\")]\n",
    "print(\"Ingrese la aceleración del planeta\")\n",
    "a_ball=input(\"aceleración del planeta:\")\n",
    "tiempo=tiempo_caida_pelota(r_0,v_0,float(a_ball))\n",
    "try:\n",
    "    print(f\"La pelota tarda {tiempo} en caer\")\n",
    "except:\n",
    "    pass"
   ]
  },
  {
   "cell_type": "code",
   "execution_count": null,
   "metadata": {},
   "outputs": [],
   "source": []
  }
 ],
 "metadata": {
  "kernelspec": {
   "display_name": "Python 3",
   "language": "python",
   "name": "python3"
  },
  "language_info": {
   "codemirror_mode": {
    "name": "ipython",
    "version": 3
   },
   "file_extension": ".py",
   "mimetype": "text/x-python",
   "name": "python",
   "nbconvert_exporter": "python",
   "pygments_lexer": "ipython3",
   "version": "3.7.6"
  }
 },
 "nbformat": 4,
 "nbformat_minor": 4
}
