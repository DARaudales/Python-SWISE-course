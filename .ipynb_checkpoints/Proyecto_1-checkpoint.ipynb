{
 "cells": [
  {
   "cell_type": "markdown",
   "metadata": {},
   "source": [
    "# Inciso1\n",
    "> Cree funciones para todos los objetos fundamentales: $x(t)$, $y(t)$, $\\vec{r}(t)$.\n",
    "\n",
    "Nos interesa definir las funciones que describen la posición del objeto, comenzaremos por definir $y(t)$\n"
   ]
  },
  {
   "cell_type": "code",
   "execution_count": 1,
   "metadata": {},
   "outputs": [],
   "source": [
    "def comp_y(y0, vy0, t, a = -9.8):\n",
    "    return(y0 + vy0*t + a*t**2/2)"
   ]
  },
  {
   "cell_type": "markdown",
   "metadata": {},
   "source": [
    "seguido de $x(t)$"
   ]
  },
  {
   "cell_type": "code",
   "execution_count": 3,
   "metadata": {},
   "outputs": [],
   "source": [
    "def comp_x(x0, vx0, t):\n",
    "    return(x0 + vx0*t)"
   ]
  },
  {
   "cell_type": "markdown",
   "metadata": {},
   "source": [
    "ahora podemos usar una lista para definir $\\vec{r}(t)$"
   ]
  },
  {
   "cell_type": "code",
   "execution_count": 5,
   "metadata": {},
   "outputs": [],
   "source": [
    "def vec_r(comp_x,comp_y):\n",
    "    return [comp_x,comp_y]"
   ]
  },
  {
   "cell_type": "markdown",
   "metadata": {},
   "source": [
    "# Inciso 2.1\n",
    "\n",
    ">¿En qué tiempo $t$ una pelota (definida por su estado inicial $(r_0, v_0)$) cae al suelo? ¿Qué tal si lo que queremos es que caiga sobre una repisa de altura $h$?\n",
    "\n",
    "Tendremos en cuenta que el estado inicial sería $r_0=(x_0,y_0)$ y $v_0=(v_{x_0},v_{y_0})$. Definiremos una función que resuelve ecuaciones cuadráticas ya que será útil más adelante, esta funciona utilizando la formula cuadrática"
   ]
  },
  {
   "cell_type": "code",
   "execution_count": null,
   "metadata": {},
   "outputs": [],
   "source": [
    "def solve_quadratic_function(a,b,c):\n",
    "    \"\"\"\n",
    "    Devuelve las dos raíces de una ecuación cuadrática en forma de lista\n",
    "    \"\"\"\n",
    "    discriminante=b**2-4*a*c\n",
    "    if discriminante>=0:\n",
    "        x=[(-b+discriminante**0.5)/(2*a),(-b-discriminante**0.5)/(2*a)]\n",
    "        return x\n",
    "    else:\n",
    "        print(\"La ecuación cuadrática no tiene solución en el conjunto de los números reales\")"
   ]
  }
 ],
 "metadata": {
  "kernelspec": {
   "display_name": "Python 3",
   "language": "python",
   "name": "python3"
  },
  "language_info": {
   "codemirror_mode": {
    "name": "ipython",
    "version": 3
   },
   "file_extension": ".py",
   "mimetype": "text/x-python",
   "name": "python",
   "nbconvert_exporter": "python",
   "pygments_lexer": "ipython3",
   "version": "3.7.6"
  }
 },
 "nbformat": 4,
 "nbformat_minor": 4
}
