{
 "cells": [
  {
   "cell_type": "markdown",
   "metadata": {},
   "source": [
    "# Inciso1\n",
    "> Cree funciones para todos los objetos fundamentales: $x(t)$, $y(t)$, $\\vec{r}(t)$.\n",
    "\n",
    "Nos interesa definir las funciones que describen la posición del objeto, comenzaremos por definir $y(t)$\n"
   ]
  },
  {
   "cell_type": "code",
   "execution_count": null,
   "metadata": {},
   "outputs": [],
   "source": [
    "def comp_y(y0, vy0, t, a = -9.8):\n",
    "    return(y0 + vy0*t + a*t**2/2)"
   ]
  },
  {
   "cell_type": "markdown",
   "metadata": {},
   "source": [
    "seguido de $x(t)$"
   ]
  },
  {
   "cell_type": "code",
   "execution_count": null,
   "metadata": {},
   "outputs": [],
   "source": [
    "def comp_x(x0, vx0, t):\n",
    "    return(x0 + vx0*t)"
   ]
  },
  {
   "cell_type": "markdown",
   "metadata": {},
   "source": [
    "ahora podemos usar una lista para definir $\\vec{r}(t)$"
   ]
  },
  {
   "cell_type": "code",
   "execution_count": null,
   "metadata": {},
   "outputs": [],
   "source": [
    "def vec_r(comp_x,comp_y):\n",
    "    return [float(comp_x),float(comp_y)]"
   ]
  },
  {
   "cell_type": "markdown",
   "metadata": {},
   "source": [
    "# Inciso 2.1\n",
    "\n",
    ">¿En qué tiempo $t$ una pelota (definida por su estado inicial $(r_0, v_0)$) cae al suelo? ¿Qué tal si lo que queremos es que caiga sobre una repisa de altura $h$?\n",
    "\n",
    "Tendremos en cuenta que el estado inicial sería $r_0=(x_0,y_0)$ y $v_0=(v_{x_0},v_{y_0})$. Definiremos una función que resuelve ecuaciones cuadráticas ya que será útil más adelante, esta funciona utilizando la formula cuadrática"
   ]
  },
  {
   "cell_type": "code",
   "execution_count": null,
   "metadata": {},
   "outputs": [],
   "source": [
    "def solve_quadratic_equation(a,b,c):\n",
    "    \"\"\"\n",
    "    Devuelve las dos raíces de una ecuación cuadrática en forma de lista\n",
    "    \"\"\"\n",
    "    discriminante=b**2-4*a*c\n",
    "    if discriminante>=0:\n",
    "        x=[(-b+discriminante**0.5)/(2*a),(-b-discriminante**0.5)/(2*a)]\n",
    "        return x\n",
    "    else:\n",
    "        print(\"La ecuación cuadrática no tiene solución en el conjunto de los números reales\")"
   ]
  },
  {
   "cell_type": "markdown",
   "metadata": {},
   "source": [
    "Ahora necesitamos encontrar el tiempo en que la pelota cae al suelo. Sabemos el suelo se encuentra en $y(t)=0$, lo que significa que nuestro trabajo es resolver la ecuación $y_0 + v_{y_0} t + \\frac{a}{2}t^2=0$, la cual puede ser resuelta con la función que obtuvimos anteriormente"
   ]
  },
  {
   "cell_type": "code",
   "execution_count": null,
   "metadata": {},
   "outputs": [],
   "source": [
    "def tiempo_caida_pelota(r_0,v_0,a=-9.8):\n",
    "    \"\"\"\n",
    "    Nos ayuda a saber el tiempo que tarda la pelota en tocar el suelo dependiendo de su posición y velocidad iniciales\n",
    "    \"\"\"\n",
    "    #necesitamos solo los datos de el eje \"y\" así que definimos estas variables\n",
    "    y0=float(r_0[1])\n",
    "    v_y0=float(v_0[1])\n",
    "    #utilizamos la función anterior para hacer los calculos\n",
    "    tiempo=solve_quadratic_equation(a/2,v_y0,y0)\n",
    "    #Regresamos el valor más alto, de no existir este ya que tenemos un discriminante negativo pasamos al except\n",
    "    try:\n",
    "        return (float(tiempo[0]) if float(tiempo[0])>float(tiempo[1]) else float(tiempo[1]))\n",
    "    except:\n",
    "        print(\"La pelota no tocará el suelo\")"
   ]
  },
  {
   "cell_type": "markdown",
   "metadata": {},
   "source": [
    "Pedimos al usuario que ingrese los datos necesarios y damos el resultado"
   ]
  },
  {
   "cell_type": "code",
   "execution_count": null,
   "metadata": {},
   "outputs": [],
   "source": [
    "print(\"Ingrese las condiciones iniciales\")\n",
    "r_0=[input(\"x0:\"),input(\"y0:\")]\n",
    "v_0=[input(\"vx0:\"),input(\"vy0:\")]\n",
    "print(\"Ingrese la aceleración del planeta\")\n",
    "a_ball=input(\"aceleración del planeta:\")\n",
    "tiempo=tiempo_caida_pelota(r_0,v_0,float(a_ball))\n",
    "#ya que es posible que tengamos numeros negativos, los cuales representan que la pelota no tocará el suelo, agregamos un if. \n",
    "#Agregamos el try ya que puede que tiempo nada más regrese un mensaje en caso de que el discriminante sea negativo\n",
    "#ya incluimos previamente los mensajes así que nada más damos pass\n",
    "try:\n",
    "    if tiempo>0:\n",
    "        print(f\"La pelota tarda {tiempo} en caer al suelo\")\n",
    "    else:\n",
    "        print(\"La pelota no tocará el suelo\")\n",
    "except:\n",
    "    pass"
   ]
  },
  {
   "cell_type": "markdown",
   "metadata": {},
   "source": [
    ">¿Qué tal si lo que queremos es que caiga sobre una repisa de altura $h$?\n",
    "\n",
    "Ahora que caerá sobre una repisa de altura $h$ la ecuación será $y(t)=y_0+v_{y_0}t+\\frac{a}{2}t^2=h$, se puede notar facilmente que podemos restar $h$ a ambos lados y obtendremos de nuevo una ecuación cuadrática, esta será: $y_0-h+v_{y_0}t+\\frac{a}{2}t^2=0$. Todo se reduce a resolver esto, lo cual se puede hacer perfectamente nada más haciendo unos cambios a la función anterior"
   ]
  },
  {
   "cell_type": "code",
   "execution_count": null,
   "metadata": {},
   "outputs": [],
   "source": [
    "def tiempo_caida_pelota_repisa(r_0,v_0,h,a=-9.8):\n",
    "    \"\"\"\n",
    "    Nos ayuda a saber el tiempo que tarda la pelota en tocar el una repisa de altura h\n",
    "    \"\"\"\n",
    "    #restamos el valor de h a la posición inicial en \"y\"\n",
    "    y0=float(r_0[1])-float(h)\n",
    "    v_y0=float(v_0[1])\n",
    "    #utilizamos la función anterior para hacer los calculos\n",
    "    tiempo=solve_quadratic_equation(a/2,v_y0,y0)\n",
    "    #Regresamos el valor más alto, nos quedamos con el error de la función anterior si no hay solución en los reales\n",
    "    try:\n",
    "        return (float(tiempo[0]) if float(tiempo[0])>float(tiempo[1]) else float(tiempo[1]))\n",
    "    except:\n",
    "        print(\"La pelota no tocará el suelo\")"
   ]
  },
  {
   "cell_type": "code",
   "execution_count": null,
   "metadata": {},
   "outputs": [],
   "source": [
    "h=input(\"Ingrese una altura si le gustaría saber en cuanto tiempo el objeto caería en una repisa de esa altura: \\n\")\n",
    "tiempo_repisa=tiempo_caida_pelota_repisa(r_0,v_0,h,float(a_ball))\n",
    "try:\n",
    "    if tiempo_repisa>0:\n",
    "        print(f\"La pelota tarda {tiempo_repisa} en caer en una repisa de altura {h}\")\n",
    "    else:\n",
    "        print(\"La pelota no tocará el suelo\")\n",
    "except:\n",
    "    pass\n"
   ]
  },
  {
   "cell_type": "markdown",
   "metadata": {},
   "source": [
    "# Inciso 2.5\n",
    ">Si un jugador de baseball quiere agarrar la pelota antes de que caiga al suelo ¿Cuándo debe empezar a correr? Asumiendo que comienza en el suelo, unos $m$ metros adelante de la pelota, y quieto. Es decir: $r_0 = (x_0 + m, 0)$ y $v_0 = (0,0)$.\n",
    "\n",
    "Para resolver este inciso nos podremos ayudar de las funciones que creamos en el inciso 2.1. Podemos utilizar la función `tiempo_caida_pelota` para ver la distancia en x en la cual la pelota toca el suelo. La posición del jugador estará dada por  $x_j(t)=(x_0+m)+\\frac{1}{2}at^2$, donde le pediremos la aceleración al usuario. Como podemos obtener la distancia en x, podes despejar la expresión anterior para el tiempo obteniendo $t=\\sqrt{\\frac{2(x_{max}-x_0-m)}{a}}$, donde $x_{max}$ es la distancia desde el origen en que la pelota toca el suelo"
   ]
  },
  {
   "cell_type": "code",
   "execution_count": null,
   "metadata": {},
   "outputs": [],
   "source": [
    "def tiempo_para_atraparla(a_jugador,r_ball_0,v_ball_0,m,a_pelota=-9.8):\n",
    "    r0_player=float(r_ball_0[0])+float(m)\n",
    "    #vemos que tan lejos viaja la pelota en el eje x antes de tocar el suelo\n",
    "    x_ball_max=com_x(float(r_ball_0[0]),float(v_ball_0[0]),tiempo_caida_pelota(r_ball_0,v_ball_0,a_pelota))\n",
    "    #ahora podemos hacer el calculo\n",
    "    try:\n",
    "        tiempo=(2(x_ball_max-r0_player-m)/a_jugador)**0.5\n",
    "        return tiempo\n",
    "    except:\n",
    "        print(\"La pelota no tocará el suelo, así que el jugador no podrá atraparla\")"
   ]
  },
  {
   "cell_type": "markdown",
   "metadata": {},
   "source": [
    "Finalmente pedimos al usuario los datos necesarios"
   ]
  },
  {
   "cell_type": "code",
   "execution_count": null,
   "metadata": {},
   "outputs": [],
   "source": [
    "print(\"¿Qué tan lejos está inicialmente el jugador de x0?\")\n",
    "m=input(\"m:\")\n",
    "print(\"¿Con qué aceleración corrió el jugador?\")\n",
    "a_player=input(\"aceleración del jugador:\")\n",
    "t=tiempo_para_atraparla(a_ball,a_player,r_0,v_0,m)\n",
    "try:\n",
    "    print(f\"El jugador debe comenzar a correr en t={t}\")\n",
    "except:\n",
    "    pass"
   ]
  },
  {
   "cell_type": "markdown",
   "metadata": {},
   "source": [
    "# Inciso 2.7\n",
    ">Si conoce el punto y tiempo de disparo del proyectil y punto y tiempo de caída al suelo, ¿Puede encontrar la velocidad inicial $v_0 = (v_{x_0}, v_{y_0})$ con la cual fue disparado? Si es así, programelo. Si no, indique lo que hace falta, y utilícelo para un programa que lo calcule.\n",
    "\n",
    "ya que no tenemos nuestro origen temporal en t=0, las ecuaciones de cinemática se volverán $$ x=x_0+v_{x_0} \\Delta t$$ $$ y=y_0+v_{y_0} \\Delta t +\\frac{a}{2} \\Delta t^2$$ donde $\\Delta t =t-t_0$. \n",
    "\n",
    "Cómo ya sabemos el tiempo en que la pelota toca el suelo lo llamaremos $t_f$ y también conocemos la coordenada en x ya que conocemos el punto, a esta coordenada la llamaremos $x_{max}$. sabiendo esto obtendremos la ecuación $x_{max}=x_0+v_{x_0}(t_f-t_0) \\Rightarrow v_{x_0}=\\frac{x_{max}-x_0}{t_f-t_0}$. Con esto ya obtuvimos $v_{x_0}$. Ahora, nos interesa $v_{y_0}$, como sabemos que es en el momento que la pelota toca el suelo sabemos la ecuación en ese momento sería $y_0+v_{y_0}(t_f-t_0)+\\frac{a}{2}(t_f-t_0)^2=0$, despejando para $v_{y_0}$ obtendremos, $v_{y_0}=-\\frac{y_0}{t_f-t_0}-\\frac{a}{2}(t_f-t_0)$, esto significa que necesitaremos pedir la aceleración"
   ]
  },
  {
   "cell_type": "code",
   "execution_count": null,
   "metadata": {},
   "outputs": [],
   "source": [
    "def velocidad_inicial(t_f,t_0,r_0,x_max,a):\n",
    "    x_0=float(r_0[0])\n",
    "    y_0=float(r_0[1])\n",
    "    d_t=float(t_f)-float(t_0)\n",
    "    v_x=(float(x_max)-x_0)/d_t\n",
    "    v_y=-y_0/d_t-(float(a)/2)*d_t\n",
    "    return [v_x,v_y]"
   ]
  },
  {
   "cell_type": "markdown",
   "metadata": {},
   "source": [
    "Ahora le pedimos al usuario lo necesario"
   ]
  },
  {
   "cell_type": "code",
   "execution_count": null,
   "metadata": {},
   "outputs": [],
   "source": [
    "print(\"Ingrese las condiciones iniciales para la posición\")\n",
    "r_0=[input(\"x0:\"),input(\"y0:\")]\n",
    "print(\"Ingrese el tiempo en el que se dispara el proyectil\")\n",
    "t_inicial=input(\"t_0:\")\n",
    "print(\"Ingrese la coordenada en x en la que el proyectil toca el suelo\")\n",
    "x_max=input(\"x:\")\n",
    "print(\"Ingrese el tiempo en el que el proyectil toca el suelo\")\n",
    "t_final=input(\"t_f:\")\n",
    "print(\"Ingrese la aceleración del proyectil, recuerde el signo negativo de ser necesario\")\n",
    "a=input(\"a:\")\n",
    "v_0=velocidad_inicial(t_final,t_inicial,r_0,x_max,a)\n",
    "print(f\"la velocidad inicial es {v_0} \\n donde su componente en x es {v_0[0]} y su componente y es {v_0[1]}\")"
   ]
  },
  {
   "cell_type": "code",
   "execution_count": null,
   "metadata": {},
   "outputs": [],
   "source": []
  },
  {
   "cell_type": "code",
   "execution_count": null,
   "metadata": {},
   "outputs": [],
   "source": []
  }
 ],
 "metadata": {
  "kernelspec": {
   "display_name": "Python 3",
   "language": "python",
   "name": "python3"
  },
  "language_info": {
   "codemirror_mode": {
    "name": "ipython",
    "version": 3
   },
   "file_extension": ".py",
   "mimetype": "text/x-python",
   "name": "python",
   "nbconvert_exporter": "python",
   "pygments_lexer": "ipython3",
   "version": "3.7.6"
  }
 },
 "nbformat": 4,
 "nbformat_minor": 4
}
