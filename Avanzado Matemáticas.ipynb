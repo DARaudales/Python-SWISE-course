{
 "cells": [
  {
   "cell_type": "markdown",
   "metadata": {},
   "source": [
    "Ángel Anariba"
   ]
  },
  {
   "cell_type": "markdown",
   "metadata": {},
   "source": [
    "# Inciso 3"
   ]
  },
  {
   "cell_type": "markdown",
   "metadata": {},
   "source": [
    "## Ejercicio 3.3"
   ]
  },
  {
   "cell_type": "markdown",
   "metadata": {},
   "source": [
    "**(MATEMÁTICAS) Imagine que le dan una trayectoria fija $r_1(t) = (x_1(t), y_1(t))$ de un proyectil y una altura fija $y_{\\text{fija}}$. Construya una función que devuelva otra trayectoria $r_2(t)$ con distancia horizontal inicial $x_0 = x_1(0)$ y altura inicial $y_{\\text{fija}}$ tal que exista un tiempo $t_{\\text{col}}$ en que ambos proyectiles colisionen.**"
   ]
  },
  {
   "cell_type": "markdown",
   "metadata": {},
   "source": [
    "Se importa el paquete *numpy* y se definen las funciones necesarias para resolver el problema, expresando las componentes de la trayectoria como polinomios, con el tiempo de incógnita."
   ]
  },
  {
   "cell_type": "code",
   "execution_count": null,
   "metadata": {},
   "outputs": [],
   "source": [
    "import numpy as np\n",
    "\n",
    "def y_t(y0, vy0, a):\n",
    "    coeficientes=[a/2,vy0,y0]\n",
    "    y=np.poly1d(coeficientes)\n",
    "    return(y)\n",
    "\n",
    "def x_t(x0, vx):\n",
    "    coeficientes=[vx,x0]\n",
    "    x=np.poly1d(coeficientes)\n",
    "    return(x)"
   ]
  },
  {
   "cell_type": "markdown",
   "metadata": {},
   "source": [
    "Se muestra un mensaje introductorio y se piden datos al usuario, los cuales luego son validados."
   ]
  },
  {
   "cell_type": "code",
   "execution_count": null,
   "metadata": {},
   "outputs": [],
   "source": [
    "print(\"Este programa calcula una trayectoria de un proyectil que a modo que colisione con otro y muestra el tiempo de clisión.\")\n",
    "while True:\n",
    "    try:\n",
    "        x0=float(input(\"Ingresa la coordenada en X desde la cual se lanzará el proyectil: \"))\n",
    "    except:\n",
    "        print(\"Ese tipo de dato no es válido, intenta de nuevo.\")\n",
    "    else:\n",
    "        break\n",
    "while True:\n",
    "    try:\n",
    "        y0=float(input(\"Ingresa la altura inicial, desde la cual se lanzará el proyectil: \"))\n",
    "    except:\n",
    "        print(\"Ese tipo de dato no es válido, intenta de nuevo.\")\n",
    "    else:\n",
    "        break\n",
    "while True:\n",
    "    try:\n",
    "        vy0=float(input('Ingresa la componente \"y\" de la velocidad inicial del proyectil: '))\n",
    "    except:\n",
    "        print(\"Ese tipo de dato no es válido, intenta de nuevo.\")\n",
    "    else:\n",
    "        break\n",
    "while True:\n",
    "    try:\n",
    "        vx=float(input('Ingresa la componente \"x\" de la velocidad inicial del proyectil: '))\n",
    "    except:\n",
    "        print(\"Ese tipo de dato no es válido, intenta de nuevo.\")\n",
    "    else:\n",
    "        break\n",
    "while True:\n",
    "    try:\n",
    "        a=float(input('Ingresa el valor de la gravedad (ejemplo: 9.81 para la Tierra): '))\n",
    "    except:\n",
    "        print(\"Ese tipo de dato no es válido, intenta de nuevo.\")\n",
    "    else:\n",
    "        a=-a\n",
    "        break\n",
    "while True:\n",
    "        try:\n",
    "            y1=float(input(\"Ingresa la altura inicial de la segunda trayectoria: \"))\n",
    "        except:\n",
    "            print(\"Ese tipo de dato no es válido, intenta de nuevo.\")\n",
    "        else:\n",
    "            break"
   ]
  },
  {
   "cell_type": "markdown",
   "metadata": {},
   "source": [
    "Se construye una función igualando los polinomios que describen la trayectoria vertical de los proyectiles con respecto al tiempo, generando previamente valores aleatorios para la velocidad en \"y\" del segundo y probando hasta encontrar una solución positiva. Nótese que, dado que parten de la misma coordenada en \"x\", los proyectiles deben tener la misma velocidad para poder encontrarse (considerando que son masas puntuales). "
   ]
  },
  {
   "cell_type": "code",
   "execution_count": null,
   "metadata": {},
   "outputs": [],
   "source": [
    "while True:\n",
    "    try:\n",
    "        vy1 = np.random.uniform(vy0 - 20, vy0 + 20, size=None)\n",
    "        y_t1=(y_t(y0, vy0, a))\n",
    "        y_t2=(y_t(y1, vy1, a))\n",
    "\n",
    "        ry_t=y_t1-y_t2\n",
    "\n",
    "        sol=float(np.roots(ry_t))\n",
    "\n",
    "    except:\n",
    "        pass\n",
    "    else:\n",
    "        if sol<0:\n",
    "            pass\n",
    "        else:\n",
    "            break"
   ]
  },
  {
   "cell_type": "markdown",
   "metadata": {},
   "source": [
    "Se imprimen los polinomios que describen la trayectoria del seguno proyectil, al igual que el tiempo que tarda en impactar el otro."
   ]
  },
  {
   "cell_type": "code",
   "execution_count": null,
   "metadata": {},
   "outputs": [],
   "source": [
    "print(f\"x(t)={x_t(x0, vx)}\")\n",
    "print(f\"y(t)=\\n{y_t(y1, vy1, a)}\")\n",
    "print(f\"Colisionarán en {sol} segundos.\")"
   ]
  }
 ],
 "metadata": {
  "kernelspec": {
   "display_name": "Python 3",
   "language": "python",
   "name": "python3"
  },
  "language_info": {
   "codemirror_mode": {
    "name": "ipython",
    "version": 3
   },
   "file_extension": ".py",
   "mimetype": "text/x-python",
   "name": "python",
   "nbconvert_exporter": "python",
   "pygments_lexer": "ipython3",
   "version": "3.8.3"
  }
 },
 "nbformat": 4,
 "nbformat_minor": 4
}
